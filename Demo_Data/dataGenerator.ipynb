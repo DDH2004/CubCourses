{
 "cells": [
  {
   "cell_type": "code",
   "execution_count": 1,
   "metadata": {},
   "outputs": [
    {
     "name": "stdout",
     "output_type": "stream",
     "text": [
      "Requirement already satisfied: faker in /workspaces/CubCourses/.venv/lib/python3.12/site-packages (30.8.2)\n",
      "Requirement already satisfied: python-dateutil>=2.4 in /workspaces/CubCourses/.venv/lib/python3.12/site-packages (from faker) (2.9.0.post0)\n",
      "Requirement already satisfied: typing-extensions in /workspaces/CubCourses/.venv/lib/python3.12/site-packages (from faker) (4.12.2)\n",
      "Requirement already satisfied: six>=1.5 in /workspaces/CubCourses/.venv/lib/python3.12/site-packages (from python-dateutil>=2.4->faker) (1.16.0)\n",
      "Note: you may need to restart the kernel to use updated packages.\n",
      "Requirement already satisfied: pandas in /workspaces/CubCourses/.venv/lib/python3.12/site-packages (2.2.3)\n",
      "Requirement already satisfied: numpy>=1.26.0 in /workspaces/CubCourses/.venv/lib/python3.12/site-packages (from pandas) (2.1.3)\n",
      "Requirement already satisfied: python-dateutil>=2.8.2 in /workspaces/CubCourses/.venv/lib/python3.12/site-packages (from pandas) (2.9.0.post0)\n",
      "Requirement already satisfied: pytz>=2020.1 in /workspaces/CubCourses/.venv/lib/python3.12/site-packages (from pandas) (2024.2)\n",
      "Requirement already satisfied: tzdata>=2022.7 in /workspaces/CubCourses/.venv/lib/python3.12/site-packages (from pandas) (2024.2)\n",
      "Requirement already satisfied: six>=1.5 in /workspaces/CubCourses/.venv/lib/python3.12/site-packages (from python-dateutil>=2.8.2->pandas) (1.16.0)\n",
      "Note: you may need to restart the kernel to use updated packages.\n"
     ]
    }
   ],
   "source": [
    "%pip install faker\n",
    "%pip install pandas"
   ]
  },
  {
   "cell_type": "code",
   "execution_count": 2,
   "metadata": {},
   "outputs": [],
   "source": [
    "import faker\n",
    "import pandas as pd"
   ]
  },
  {
   "cell_type": "code",
   "execution_count": 3,
   "metadata": {},
   "outputs": [],
   "source": [
    "fake = faker.Faker()"
   ]
  },
  {
   "cell_type": "code",
   "execution_count": 4,
   "metadata": {},
   "outputs": [],
   "source": [
    "def generate_fake_persons(n):\n",
    "    persons = []\n",
    "    for i in range(n):\n",
    "        fname = fake.first_name()\n",
    "        lname = fake.last_name()\n",
    "        if i < n * 0.85: \n",
    "            persons.append({\n",
    "                'id': i+1,\n",
    "                'first_name': fname,\n",
    "                'last_name': lname,\n",
    "                'phoneNum': fake.phone_number().split('x')[0],\n",
    "                'email': lname.lower() + '.' + fname.lower() + '@cub.edu',\n",
    "                'address': fake.address().replace('\\n', ', '),\n",
    "                'gender': fake.random_element(['Male', 'Female', 'Other']),\n",
    "                'dob': fake.date_of_birth(minimum_age=14, maximum_age=18).strftime('%Y-%m-%d'),\n",
    "            })\n",
    "        else:\n",
    "            persons.append({\n",
    "                'id': i+1,\n",
    "                'first_name': fname,\n",
    "                'last_name': lname,\n",
    "                'phoneNum': fake.phone_number().split('x')[0],\n",
    "                'email': lname.lower() + '.' + fname.lower() + '@cub.edu', \n",
    "                'address': fake.address().replace('\\n', ', '),\n",
    "                'gender': fake.random_element(['Male', 'Female', 'Other']),\n",
    "                'dob': fake.date_of_birth(minimum_age=25, maximum_age=60).strftime('%Y-%m-%d'),\n",
    "            })\n",
    "    return persons\n"
   ]
  },
  {
   "cell_type": "code",
   "execution_count": 5,
   "metadata": {},
   "outputs": [],
   "source": [
    "persons_df = pd.DataFrame(generate_fake_persons(1000))\n",
    "persons_df.to_csv('persons.csv', index=False)"
   ]
  },
  {
   "cell_type": "code",
   "execution_count": 6,
   "metadata": {},
   "outputs": [],
   "source": [
    "adults = persons_df[persons_df['dob'] < '2003-01-01']\n",
    "students = persons_df[persons_df['dob'] >= '2003-01-01']"
   ]
  },
  {
   "cell_type": "code",
   "execution_count": 7,
   "metadata": {},
   "outputs": [],
   "source": [
    "def generate_fake_faculty(df):\n",
    "    faculty = []\n",
    "    for i in range(len(df)):\n",
    "        if i >= len(df) - 10:\n",
    "            faculty.append({\n",
    "                'faculty_id': df.iloc[i]['id'],\n",
    "                'hire_date': (pd.to_datetime('today') - pd.DateOffset(years=fake.random_int(min=10, max=20))).strftime('%Y-%m-%d'),\n",
    "                'role': 'Administrator',\n",
    "                'salary': fake.random_int(min=100000, max=200000),\n",
    "            })\n",
    "        else:\n",
    "            faculty.append({\n",
    "                'faculty_id': df.iloc[i]['id'],\n",
    "                'hire_date': (pd.to_datetime('today') - pd.DateOffset(years=fake.random_int(min=4, max=10))).strftime('%Y-%m-%d'),\n",
    "                'role': 'Teacher',\n",
    "                'salary': fake.random_int(min=50000, max=120000),\n",
    "            })\n",
    "    return faculty"
   ]
  },
  {
   "cell_type": "code",
   "execution_count": 8,
   "metadata": {},
   "outputs": [],
   "source": [
    "faculty_df = pd.DataFrame(generate_fake_faculty(adults))\n",
    "faculty_df.to_csv('faculty.csv', index=False)"
   ]
  },
  {
   "cell_type": "code",
   "execution_count": 9,
   "metadata": {},
   "outputs": [],
   "source": [
    "teacher = adults[:-10]\n",
    "admin = adults[-10:]"
   ]
  },
  {
   "cell_type": "code",
   "execution_count": 10,
   "metadata": {},
   "outputs": [],
   "source": [
    "def generate_fake_admin(df):\n",
    "    admin = []\n",
    "    df = df.sample(frac=1).reset_index(drop=True)\n",
    "    for i in range(len(df)):\n",
    "        if i == 0:\n",
    "            admin.append({\n",
    "                'admin_id': df.iloc[i]['id'],\n",
    "                'position_title': 'Principal',\n",
    "                'department': 'Administration',\n",
    "                'budget_responsibility': True,\n",
    "            })\n",
    "        elif i == 1:\n",
    "            admin.append({\n",
    "                'admin_id': df.iloc[i]['id'],\n",
    "                'position_title': 'Vice Principal',\n",
    "                'department': 'Administration',\n",
    "                'budget_responsibility': True,\n",
    "            })\n",
    "        elif i >= 2 and i < 6:\n",
    "            admin.append({\n",
    "                'admin_id': df.iloc[i]['id'],\n",
    "                'position_title': 'Secretary',\n",
    "                'department': 'Administration',\n",
    "                'budget_responsibility': True,\n",
    "            })\n",
    "        else:\n",
    "            admin.append({\n",
    "                'admin_id': df.iloc[i]['id'],\n",
    "                'position_title': 'Counselor',\n",
    "                'department': 'Guidance',\n",
    "                'budget_responsibility': False,\n",
    "            })\n",
    "    return admin"
   ]
  },
  {
   "cell_type": "code",
   "execution_count": 11,
   "metadata": {},
   "outputs": [],
   "source": [
    "admin_df = pd.DataFrame(generate_fake_admin(admin))\n",
    "admin_df.to_csv('admin.csv', index=False)"
   ]
  },
  {
   "cell_type": "code",
   "execution_count": 12,
   "metadata": {},
   "outputs": [],
   "source": [
    "def generate_fake_teachers(df):\n",
    "    teachers = []\n",
    "    for i in range(len(df)):\n",
    "        teachers.append({\n",
    "            'teacher_id': df.iloc[i]['id'],\n",
    "            'subject': fake.random_element(['Math', 'Science', 'History', 'English', 'Art', 'Music', 'PE', 'Spanish', 'French']),\n",
    "            'tenure': fake.random_element(['Yes', 'No']),\n",
    "            'office': fake.random_element(['A', 'B', 'C', 'D', 'E', 'F', 'G', 'H', 'I', 'J']),\n",
    "        })\n",
    "    return teachers"
   ]
  },
  {
   "cell_type": "code",
   "execution_count": 13,
   "metadata": {},
   "outputs": [],
   "source": [
    "teachers_df = pd.DataFrame(generate_fake_teachers(teacher))\n",
    "teachers_df.to_csv('teachers.csv', index=False)"
   ]
  },
  {
   "cell_type": "code",
   "execution_count": 14,
   "metadata": {},
   "outputs": [],
   "source": [
    "def generate_fake_students(df):\n",
    "    students = []\n",
    "    for i in range(len(df)):\n",
    "        students.append({\n",
    "            'student_id': df.iloc[i]['id'],\n",
    "            'guardian': fake.name(),\n",
    "            'enroll_date': (pd.to_datetime('today') - pd.DateOffset(years=fake.random_int(min=1, max=4))).strftime('%Y-%m-%d'),\n",
    "        })\n",
    "    return students"
   ]
  },
  {
   "cell_type": "code",
   "execution_count": 15,
   "metadata": {},
   "outputs": [],
   "source": [
    "students_df = pd.DataFrame(generate_fake_students(students))\n",
    "students_df.to_csv('students.csv', index=False)"
   ]
  },
  {
   "cell_type": "code",
   "execution_count": 16,
   "metadata": {},
   "outputs": [],
   "source": [
    "def generate_fake_classes():\n",
    "    classes = []\n",
    "    class_num = 1\n",
    "    subject_count = {\n",
    "        'Math': 0,\n",
    "        'Science': 0,\n",
    "        'History': 0,\n",
    "        'English': 0,\n",
    "        'Art': 0,\n",
    "        'Music': 0,\n",
    "        'PE': 0,\n",
    "        'Spanish': 0,\n",
    "        'French': 0,\n",
    "    }\n",
    "    for _, i in teachers_df.iterrows():\n",
    "        num_classes = fake.random_int(min=1, max=3)\n",
    "        for _ in range(num_classes):\n",
    "            classes.append({\n",
    "                'class_id': class_num,\n",
    "                'name': f'{i[\"subject\"]} {subject_count[i[\"subject\"]] + 1}',\n",
    "                'teacher_id': i['teacher_id'],\n",
    "                'subject': i['subject'],\n",
    "            })\n",
    "            class_num += 1\n",
    "            subject_count[i['subject']] += 1\n",
    "    return classes"
   ]
  },
  {
   "cell_type": "code",
   "execution_count": 17,
   "metadata": {},
   "outputs": [],
   "source": [
    "classes_df = pd.DataFrame(generate_fake_classes())\n",
    "classes_df.to_csv('classes.csv', index=False)"
   ]
  },
  {
   "cell_type": "code",
   "execution_count": 18,
   "metadata": {},
   "outputs": [],
   "source": [
    "def generate_fake_clubs():\n",
    "    clubs = []\n",
    "    club_num = 1\n",
    "    club_names = ['Chess Club', 'Art Club', 'Music Club', 'Drama Club', 'Debate Club', 'Science Club', 'Math Club', 'History Club', 'English Club', 'Spanish Club']\n",
    "    club_description = ['A club for chess enthusiasts', 'A club for artists', 'A club for music lovers', 'A club for aspiring actors', 'A club for debaters', 'A club for science lovers', 'A club for math enthusiasts', 'A club for history buffs', 'A club for book lovers', 'A club for Spanish speakers']\n",
    "    for i in range(10):\n",
    "        clubs.append({\n",
    "            'club_id': club_num,\n",
    "            'teacher_id': teachers_df.sample(1)['teacher_id'].values[0],\n",
    "            'name': club_names[i],\n",
    "            'description': club_description[i],\n",
    "            'meeting_time': fake.time(pattern='%H:%M:%S'),\n",
    "            'meeting_day': fake.random_element(['Monday', 'Tuesday', 'Wednesday', 'Thursday', 'Friday']),\n",
    "        })\n",
    "        club_num += 1\n",
    "    return clubs"
   ]
  },
  {
   "cell_type": "code",
   "execution_count": 19,
   "metadata": {},
   "outputs": [],
   "source": [
    "clubs_df = pd.DataFrame(generate_fake_clubs())\n",
    "clubs_df.to_csv('clubs.csv', index=False)"
   ]
  },
  {
   "cell_type": "code",
   "execution_count": 20,
   "metadata": {},
   "outputs": [],
   "source": [
    "def generate_fake_bonuses():\n",
    "    bonuses = []\n",
    "    for i in range(fake.random_int(1, 10000)):\n",
    "        bonuses.append({\n",
    "            'bonus_id': i+1,\n",
    "            'bonus_date': fake.date_between(start_date='-10y', end_date='today').strftime('%Y-%m-%d'),\n",
    "            'amount': fake.random_int(min=100, max=5000),\n",
    "            'reason': fake.sentence(nb_words=6),\n",
    "        })\n",
    "    return bonuses\n",
    "        "
   ]
  },
  {
   "cell_type": "code",
   "execution_count": 21,
   "metadata": {},
   "outputs": [],
   "source": [
    "bonuses_df = pd.DataFrame(generate_fake_bonuses())\n",
    "bonuses_df.to_csv('bonuses.csv', index=False)"
   ]
  },
  {
   "cell_type": "code",
   "execution_count": 22,
   "metadata": {},
   "outputs": [],
   "source": [
    "def generate_fake_homework():\n",
    "    homework = []\n",
    "    for i in range(len(classes_df)):\n",
    "        for j in range(fake.random_int(1, 5)):\n",
    "            homework.append({\n",
    "                'homework_id': len(homework)+1,\n",
    "                'assign_date': fake.date_between(start_date='-1y', end_date='today').strftime('%Y-%m-%d'),\n",
    "                'due_date': fake.date_between(start_date='today', end_date='+1y').strftime('%Y-%m-%d'),\n",
    "                'description': fake.sentence(nb_words=10),\n",
    "            })\n",
    "    return homework"
   ]
  },
  {
   "cell_type": "code",
   "execution_count": 23,
   "metadata": {},
   "outputs": [],
   "source": [
    "homework_df = pd.DataFrame(generate_fake_homework())\n",
    "homework_df.to_csv('homework.csv', index=False)"
   ]
  },
  {
   "cell_type": "code",
   "execution_count": 24,
   "metadata": {},
   "outputs": [],
   "source": [
    "def generate_relation_teaches():\n",
    "    teaches = []\n",
    "    for _, i in classes_df.iterrows():\n",
    "        teaches.append({\n",
    "            'class_id': i['class_id'],\n",
    "            'teacher_id': i['teacher_id'],\n",
    "        })\n",
    "    return teaches"
   ]
  },
  {
   "cell_type": "code",
   "execution_count": 25,
   "metadata": {},
   "outputs": [],
   "source": [
    "teaches_df = pd.DataFrame(generate_relation_teaches())\n",
    "teaches_df.to_csv('teaches.csv', index=False)"
   ]
  },
  {
   "cell_type": "code",
   "execution_count": 26,
   "metadata": {},
   "outputs": [],
   "source": [
    "def generate_relation_advises():\n",
    "    advises = []\n",
    "    for _, i in clubs_df.iterrows():\n",
    "        advises.append({\n",
    "            'club_id': i['club_id'],\n",
    "            'teacher_id': i['teacher_id'],\n",
    "        })\n",
    "    return advises"
   ]
  },
  {
   "cell_type": "code",
   "execution_count": 27,
   "metadata": {},
   "outputs": [],
   "source": [
    "advises_df = pd.DataFrame(generate_relation_advises())\n",
    "advises_df.to_csv('advises.csv', index=False)"
   ]
  },
  {
   "cell_type": "code",
   "execution_count": 32,
   "metadata": {},
   "outputs": [],
   "source": [
    "def generate_relation_attends():\n",
    "    attends = []\n",
    "    for _, i in students_df.iterrows():\n",
    "        for j in classes_df.sample(fake.random_int(3, 6)).to_dict(orient='records'):\n",
    "            attends.append({\n",
    "                'student_id': i['student_id'],\n",
    "                'class_id': j['class_id'],\n",
    "                'grade': fake.random_int(min=60, max=100),\n",
    "            })\n",
    "    return attends"
   ]
  },
  {
   "cell_type": "code",
   "execution_count": 33,
   "metadata": {},
   "outputs": [],
   "source": [
    "attends_df = pd.DataFrame(generate_relation_attends())\n",
    "attends_df.to_csv('attends.csv', index=False)"
   ]
  },
  {
   "cell_type": "code",
   "execution_count": 34,
   "metadata": {},
   "outputs": [],
   "source": [
    "def generate_relation_joins():\n",
    "    joins = []\n",
    "    for _, i in students_df.iterrows():\n",
    "        for j in clubs_df.sample(fake.random_int(1, 3)).to_dict(orient='records'):\n",
    "            joins.append({\n",
    "                'student_id': i['student_id'],\n",
    "                'club_id': j['club_id'],\n",
    "            })\n",
    "    return joins"
   ]
  },
  {
   "cell_type": "code",
   "execution_count": 35,
   "metadata": {},
   "outputs": [],
   "source": [
    "joins_df = pd.DataFrame(generate_relation_joins())\n",
    "joins_df.to_csv('joins.csv', index=False)"
   ]
  },
  {
   "cell_type": "code",
   "execution_count": 36,
   "metadata": {},
   "outputs": [],
   "source": [
    "def generate_relation_granted():\n",
    "    granted = []\n",
    "    for _, i in faculty_df.iterrows():\n",
    "        for j in bonuses_df.sample(fake.random_int(1, 3)).to_dict(orient='records'):\n",
    "            granted.append({\n",
    "                'bonus_id': j['bonus_id'],\n",
    "                'faculty_id': i['faculty_id'],\n",
    "            })\n",
    "    return granted"
   ]
  },
  {
   "cell_type": "code",
   "execution_count": 37,
   "metadata": {},
   "outputs": [],
   "source": [
    "granted_df = pd.DataFrame(generate_relation_granted())\n",
    "granted_df.to_csv('granted.csv', index=False)"
   ]
  },
  {
   "cell_type": "code",
   "execution_count": 42,
   "metadata": {},
   "outputs": [],
   "source": [
    "def generate_relation_assign():\n",
    "    assign = []\n",
    "    for _, i in homework_df.iterrows():\n",
    "        for j in classes_df.sample(fake.random_int(1, 3)).to_dict(orient='records'):\n",
    "            assign.append({\n",
    "                'homework_id': i['homework_id'],\n",
    "                'class_id': j['class_id'],\n",
    "            })\n",
    "    return assign"
   ]
  },
  {
   "cell_type": "code",
   "execution_count": 43,
   "metadata": {},
   "outputs": [],
   "source": [
    "assign_df = pd.DataFrame(generate_relation_assign())\n",
    "assign_df.to_csv('assign.csv', index=False)"
   ]
  },
  {
   "cell_type": "code",
   "execution_count": 44,
   "metadata": {},
   "outputs": [],
   "source": [
    "def generate_relation_doesHomework():\n",
    "    doesHomework = []\n",
    "    for _, i in students_df.iterrows():\n",
    "        for j in homework_df.sample(fake.random_int(1, 5)).to_dict(orient='records'):\n",
    "            doesHomework.append({\n",
    "                'homework_id': j['homework_id'],\n",
    "                'student_id': i['student_id'],\n",
    "                'grade': fake.random_int(min=60, max=100),\n",
    "            })\n",
    "    return doesHomework"
   ]
  },
  {
   "cell_type": "code",
   "execution_count": 45,
   "metadata": {},
   "outputs": [],
   "source": [
    "doesHomework_df = pd.DataFrame(generate_relation_doesHomework())\n",
    "doesHomework_df.to_csv('doesHomework.csv', index=False)"
   ]
  }
 ],
 "metadata": {
  "kernelspec": {
   "display_name": ".venv",
   "language": "python",
   "name": "python3"
  },
  "language_info": {
   "codemirror_mode": {
    "name": "ipython",
    "version": 3
   },
   "file_extension": ".py",
   "mimetype": "text/x-python",
   "name": "python",
   "nbconvert_exporter": "python",
   "pygments_lexer": "ipython3",
   "version": "3.12.4"
  }
 },
 "nbformat": 4,
 "nbformat_minor": 2
}
