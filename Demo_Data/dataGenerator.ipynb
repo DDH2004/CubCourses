{
 "cells": [
  {
   "cell_type": "code",
   "execution_count": 121,
   "metadata": {},
   "outputs": [
    {
     "name": "stdout",
     "output_type": "stream",
     "text": [
      "Requirement already satisfied: faker in ./.venv/lib/python3.12/site-packages (30.8.2)\n",
      "Requirement already satisfied: python-dateutil>=2.4 in ./.venv/lib/python3.12/site-packages (from faker) (2.9.0.post0)\n",
      "Requirement already satisfied: typing-extensions in ./.venv/lib/python3.12/site-packages (from faker) (4.12.2)\n",
      "Requirement already satisfied: six>=1.5 in ./.venv/lib/python3.12/site-packages (from python-dateutil>=2.4->faker) (1.16.0)\n",
      "Requirement already satisfied: pandas in ./.venv/lib/python3.12/site-packages (2.2.3)\n",
      "Requirement already satisfied: numpy>=1.26.0 in ./.venv/lib/python3.12/site-packages (from pandas) (2.1.3)\n",
      "Requirement already satisfied: python-dateutil>=2.8.2 in ./.venv/lib/python3.12/site-packages (from pandas) (2.9.0.post0)\n",
      "Requirement already satisfied: pytz>=2020.1 in ./.venv/lib/python3.12/site-packages (from pandas) (2024.2)\n",
      "Requirement already satisfied: tzdata>=2022.7 in ./.venv/lib/python3.12/site-packages (from pandas) (2024.2)\n",
      "Requirement already satisfied: six>=1.5 in ./.venv/lib/python3.12/site-packages (from python-dateutil>=2.8.2->pandas) (1.16.0)\n"
     ]
    }
   ],
   "source": [
    "!pip install faker\n",
    "!pip install pandas"
   ]
  },
  {
   "cell_type": "code",
   "execution_count": 122,
   "metadata": {},
   "outputs": [],
   "source": [
    "import faker\n",
    "import pandas as pd"
   ]
  },
  {
   "cell_type": "code",
   "execution_count": 123,
   "metadata": {},
   "outputs": [],
   "source": [
    "fake = faker.Faker()"
   ]
  },
  {
   "cell_type": "code",
   "execution_count": 124,
   "metadata": {},
   "outputs": [],
   "source": [
    "def generate_fake_persons(n):\n",
    "    persons = []\n",
    "    for i in range(n):\n",
    "        if i < n * 0.85: \n",
    "            persons.append({\n",
    "                'id': i+1,\n",
    "                'first_name': fake.first_name(),\n",
    "                'last_name': fake.last_name(),\n",
    "                'phoneNum': fake.phone_number().split('x')[0],\n",
    "                'email': fake.email().replace('@example.com', '@cub.edu').replace('@example.org', '@cub.edu').replace('@example.net', '@cub.edu'),\n",
    "                'address': fake.address().replace('\\n', ', '),\n",
    "                'gender': fake.random_element(['Male', 'Female', 'Other']),\n",
    "                'dob': fake.date_of_birth(minimum_age=14, maximum_age=18).strftime('%Y-%m-%d'),\n",
    "            })\n",
    "        else:\n",
    "            persons.append({\n",
    "                'id': i+1,\n",
    "                'first_name': fake.first_name(),\n",
    "                'last_name': fake.last_name(),\n",
    "                'phoneNum': fake.phone_number().split('x')[0],\n",
    "                'email': fake.email().replace('@example.com', '@cub.edu').replace('@example.org', '@cub.edu').replace('@example.net', '@cub.edu'), \n",
    "                'address': fake.address().replace('\\n', ', '),\n",
    "                'gender': fake.random_element(['Male', 'Female', 'Other']),\n",
    "                'dob': fake.date_of_birth(minimum_age=25, maximum_age=60).strftime('%Y-%m-%d'),\n",
    "            })\n",
    "    return persons\n"
   ]
  },
  {
   "cell_type": "code",
   "execution_count": 125,
   "metadata": {},
   "outputs": [],
   "source": [
    "persons_df = pd.DataFrame(generate_fake_persons(1000))\n",
    "persons_df.to_csv('persons.csv', index=False)"
   ]
  },
  {
   "cell_type": "code",
   "execution_count": null,
   "metadata": {},
   "outputs": [],
   "source": [
    "adults = persons_df[persons_df['dob'] < '2003-01-01']\n",
    "students = persons_df[persons_df['dob'] >= '2003-01-01']"
   ]
  },
  {
   "cell_type": "code",
   "execution_count": 144,
   "metadata": {},
   "outputs": [],
   "source": [
    "def generate_fake_faculty(df):\n",
    "    faculty = []\n",
    "    for i in range(len(df)):\n",
    "        if i >= len(df) - 10:\n",
    "            faculty.append({\n",
    "                'faculty_id': df.iloc[i]['id'],\n",
    "                'hire_date': (pd.to_datetime('today') - pd.DateOffset(years=fake.random_int(min=10, max=20))).strftime('%Y-%m-%d'),\n",
    "                'role': 'Administrator',\n",
    "                'salary': fake.random_int(min=100000, max=200000),\n",
    "            })\n",
    "        else:\n",
    "            faculty.append({\n",
    "                'faculty_id': df.iloc[i]['id'],\n",
    "                'hire_date': (pd.to_datetime('today') - pd.DateOffset(years=fake.random_int(min=4, max=10))).strftime('%Y-%m-%d'),\n",
    "                'role': 'Teacher',\n",
    "                'salary': fake.random_int(min=50000, max=120000),\n",
    "            })\n",
    "    return faculty"
   ]
  },
  {
   "cell_type": "code",
   "execution_count": 145,
   "metadata": {},
   "outputs": [],
   "source": [
    "faculty_df = pd.DataFrame(generate_fake_faculty(adults))\n",
    "faculty_df.to_csv('faculty.csv', index=False)"
   ]
  },
  {
   "cell_type": "code",
   "execution_count": 146,
   "metadata": {},
   "outputs": [],
   "source": [
    "teacher = adults[:-10]\n",
    "admin = adults[-10:]"
   ]
  },
  {
   "cell_type": "code",
   "execution_count": 153,
   "metadata": {},
   "outputs": [],
   "source": [
    "def generate_fake_admin(df):\n",
    "    admin = []\n",
    "    df = df.sample(frac=1).reset_index(drop=True)\n",
    "    for i in range(len(df)):\n",
    "        if i == 0:\n",
    "            admin.append({\n",
    "                'admin_id': df.iloc[i]['id'],\n",
    "                'position_title': 'Principal',\n",
    "                'department': 'Administration',\n",
    "                'budget_responsibility': True,\n",
    "            })\n",
    "        elif i == 1:\n",
    "            admin.append({\n",
    "                'admin_id': df.iloc[i]['id'],\n",
    "                'position_title': 'Vice Principal',\n",
    "                'department': 'Administration',\n",
    "                'budget_responsibility': True,\n",
    "            })\n",
    "        elif i >= 2 and i < 6:\n",
    "            admin.append({\n",
    "                'admin_id': df.iloc[i]['id'],\n",
    "                'position_title': 'Secretary',\n",
    "                'department': 'Administration',\n",
    "                'budget_responsibility': True,\n",
    "            })\n",
    "        else:\n",
    "            admin.append({\n",
    "                'admin_id': df.iloc[i]['id'],\n",
    "                'position_title': 'Counselor',\n",
    "                'department': 'Guidance',\n",
    "                'budget_responsibility': False,\n",
    "            })\n",
    "    return admin"
   ]
  },
  {
   "cell_type": "code",
   "execution_count": 154,
   "metadata": {},
   "outputs": [],
   "source": [
    "admin_df = pd.DataFrame(generate_fake_admin(admin))\n",
    "admin_df.to_csv('admin.csv', index=False)"
   ]
  },
  {
   "cell_type": "code",
   "execution_count": 155,
   "metadata": {},
   "outputs": [],
   "source": [
    "def generate_fake_teachers(df):\n",
    "    teachers = []\n",
    "    for i in range(len(df)):\n",
    "        teachers.append({\n",
    "            'teacher_id': df.iloc[i]['id'],\n",
    "            'subject': fake.random_element(['Math', 'Science', 'History', 'English', 'Art', 'Music', 'PE', 'Spanish', 'French']),\n",
    "            'tenure': fake.random_element(['Yes', 'No']),\n",
    "            'office': fake.random_element(['A', 'B', 'C', 'D', 'E', 'F', 'G', 'H', 'I', 'J']),\n",
    "        })\n",
    "    return teachers"
   ]
  },
  {
   "cell_type": "code",
   "execution_count": 156,
   "metadata": {},
   "outputs": [],
   "source": [
    "teachers_df = pd.DataFrame(generate_fake_teachers(teacher))\n",
    "teachers_df.to_csv('teachers.csv', index=False)"
   ]
  },
  {
   "cell_type": "code",
   "execution_count": 151,
   "metadata": {},
   "outputs": [],
   "source": [
    "def generate_fake_students(df):\n",
    "    students = []\n",
    "    for i in range(len(df)):\n",
    "        students.append({\n",
    "            'student_id': df.iloc[i]['id'],\n",
    "            'guardian': fake.name(),\n",
    "            'enroll_date': (pd.to_datetime('today') - pd.DateOffset(years=fake.random_int(min=1, max=4))).strftime('%Y-%m-%d'),\n",
    "        })\n",
    "    return students"
   ]
  },
  {
   "cell_type": "code",
   "execution_count": 152,
   "metadata": {},
   "outputs": [],
   "source": [
    "students_df = pd.DataFrame(generate_fake_students(students))\n",
    "students_df.to_csv('students.csv', index=False)"
   ]
  },
  {
   "cell_type": "code",
   "execution_count": 170,
   "metadata": {},
   "outputs": [],
   "source": [
    "def generate_fake_classes():\n",
    "    classes = []\n",
    "    class_num = 1\n",
    "    subject_count = {\n",
    "        'Math': 0,\n",
    "        'Science': 0,\n",
    "        'History': 0,\n",
    "        'English': 0,\n",
    "        'Art': 0,\n",
    "        'Music': 0,\n",
    "        'PE': 0,\n",
    "        'Spanish': 0,\n",
    "        'French': 0,\n",
    "    }\n",
    "    for _, i in teachers_df.iterrows():\n",
    "        num_classes = fake.random_int(min=1, max=3)\n",
    "        for _ in range(num_classes):\n",
    "            classes.append({\n",
    "                'class': class_num,\n",
    "                'name': f'{i[\"subject\"]} {subject_count[i[\"subject\"]] + 1}',\n",
    "                'teacher_id': i['teacher_id'],\n",
    "                'subject': i['subject'],\n",
    "            })\n",
    "            class_num += 1\n",
    "            subject_count[i['subject']] += 1\n",
    "    return classes"
   ]
  },
  {
   "cell_type": "code",
   "execution_count": 171,
   "metadata": {},
   "outputs": [],
   "source": [
    "classes_df = pd.DataFrame(generate_fake_classes())\n",
    "classes_df.to_csv('classes.csv', index=False)"
   ]
  },
  {
   "cell_type": "code",
   "execution_count": 174,
   "metadata": {},
   "outputs": [],
   "source": [
    "def generate_fake_clubs():\n",
    "    clubs = []\n",
    "    club_num = 1\n",
    "    club_names = ['Chess Club', 'Art Club', 'Music Club', 'Drama Club', 'Debate Club', 'Science Club', 'Math Club', 'History Club', 'English Club', 'Spanish Club']\n",
    "    club_description = ['A club for chess enthusiasts', 'A club for artists', 'A club for music lovers', 'A club for aspiring actors', 'A club for debaters', 'A club for science lovers', 'A club for math enthusiasts', 'A club for history buffs', 'A club for book lovers', 'A club for Spanish speakers']\n",
    "    for i in range(10):\n",
    "        clubs.append({\n",
    "            'club_id': club_num,\n",
    "            'teacher_id': teachers_df.sample(1)['teacher_id'].values[0],\n",
    "            'name': club_names[i],\n",
    "            'description': club_description[i],\n",
    "            'meeting_time': fake.time(pattern='%H:%M:%S'),\n",
    "            'meeting_day': fake.random_element(['Monday', 'Tuesday', 'Wednesday', 'Thursday', 'Friday']),\n",
    "        })\n",
    "        club_num += 1\n",
    "    return clubs"
   ]
  },
  {
   "cell_type": "code",
   "execution_count": 175,
   "metadata": {},
   "outputs": [],
   "source": [
    "clubs_df = pd.DataFrame(generate_fake_clubs())\n",
    "clubs_df.to_csv('clubs.csv', index=False)"
   ]
  },
  {
   "cell_type": "code",
   "execution_count": 181,
   "metadata": {},
   "outputs": [],
   "source": [
    "def generate_fake_bonuses():\n",
    "    bonuses = []\n",
    "    for i in range(fake.random_int(1, 10000)):\n",
    "        bonuses.append({\n",
    "            'bonus_id': i+1,\n",
    "            'bonus_date': fake.date_between(start_date='-10y', end_date='today').strftime('%Y-%m-%d'),\n",
    "            'amount': fake.random_int(min=100, max=5000),\n",
    "            'reason': fake.sentence(nb_words=6),\n",
    "        })\n",
    "    return bonuses\n",
    "        "
   ]
  },
  {
   "cell_type": "code",
   "execution_count": 183,
   "metadata": {},
   "outputs": [],
   "source": [
    "bonuses_df = pd.DataFrame(generate_fake_bonuses())\n",
    "bonuses_df.to_csv('bonuses.csv', index=False)"
   ]
  },
  {
   "cell_type": "code",
   "execution_count": 184,
   "metadata": {},
   "outputs": [],
   "source": [
    "def generate_fake_homework():\n",
    "    homework = []\n",
    "    for i in range(len(classes_df)):\n",
    "        for j in range(fake.random_int(1, 5)):\n",
    "            homework.append({\n",
    "                'homework_id': len(homework)+1,\n",
    "                'assign_date': fake.date_between(start_date='-1y', end_date='today').strftime('%Y-%m-%d'),\n",
    "                'due_date': fake.date_between(start_date='today', end_date='+1y').strftime('%Y-%m-%d'),\n",
    "                'description': fake.sentence(nb_words=10),\n",
    "            })\n",
    "    return homework"
   ]
  },
  {
   "cell_type": "code",
   "execution_count": 185,
   "metadata": {},
   "outputs": [],
   "source": [
    "homework_df = pd.DataFrame(generate_fake_homework())\n",
    "homework_df.to_csv('homework.csv', index=False)"
   ]
  },
  {
   "cell_type": "code",
   "execution_count": null,
   "metadata": {},
   "outputs": [],
   "source": []
  }
 ],
 "metadata": {
  "kernelspec": {
   "display_name": ".venv",
   "language": "python",
   "name": "python3"
  },
  "language_info": {
   "codemirror_mode": {
    "name": "ipython",
    "version": 3
   },
   "file_extension": ".py",
   "mimetype": "text/x-python",
   "name": "python",
   "nbconvert_exporter": "python",
   "pygments_lexer": "ipython3",
   "version": "3.12.4"
  }
 },
 "nbformat": 4,
 "nbformat_minor": 2
}
